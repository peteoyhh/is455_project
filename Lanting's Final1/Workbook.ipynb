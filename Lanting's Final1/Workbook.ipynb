{
 "cells": [
  {
   "cell_type": "markdown",
   "metadata": {},
   "source": [
    "# Final Project, Part 1\n",
    "\n",
    "The purpose of this assignment is to explore the data you will use for *all parts* of your Final Project. *Please note: you will do this portion of the Final Project individually, even if you plan on working in a group for Parts 2 and 3.*\n",
    "    \n",
    "**Please see Homework Prompt in PrairieLearn interface for more details on the requirements for this assignment.**\n",
    "\n",
    "A rough outline of elements of code and write-up is shown below:"
   ]
  },
  {
   "cell_type": "code",
   "execution_count": 1,
   "metadata": {},
   "outputs": [
    {
     "name": "stderr",
     "output_type": "stream",
     "text": [
      "Matplotlib created a temporary config/cache directory at /tmp/matplotlib-vr5jzvuj because the default path (/tmp/cache/matplotlib) is not a writable directory; it is highly recommended to set the MPLCONFIGDIR environment variable to a writable directory, in particular to speed up the import of Matplotlib and to better support multiprocessing.\n"
     ]
    },
    {
     "data": {
      "text/html": [
       "<div>\n",
       "<style scoped>\n",
       "    .dataframe tbody tr th:only-of-type {\n",
       "        vertical-align: middle;\n",
       "    }\n",
       "\n",
       "    .dataframe tbody tr th {\n",
       "        vertical-align: top;\n",
       "    }\n",
       "\n",
       "    .dataframe thead th {\n",
       "        text-align: right;\n",
       "    }\n",
       "</style>\n",
       "<table border=\"1\" class=\"dataframe\">\n",
       "  <thead>\n",
       "    <tr style=\"text-align: right;\">\n",
       "      <th></th>\n",
       "      <th>Year</th>\n",
       "      <th>MeanTempAnomaly_C</th>\n",
       "    </tr>\n",
       "  </thead>\n",
       "  <tbody>\n",
       "    <tr>\n",
       "      <th>0</th>\n",
       "      <td>1880</td>\n",
       "      <td>-0.12</td>\n",
       "    </tr>\n",
       "    <tr>\n",
       "      <th>1</th>\n",
       "      <td>1881</td>\n",
       "      <td>-0.07</td>\n",
       "    </tr>\n",
       "    <tr>\n",
       "      <th>2</th>\n",
       "      <td>1882</td>\n",
       "      <td>-0.10</td>\n",
       "    </tr>\n",
       "    <tr>\n",
       "      <th>3</th>\n",
       "      <td>1883</td>\n",
       "      <td>-0.16</td>\n",
       "    </tr>\n",
       "    <tr>\n",
       "      <th>4</th>\n",
       "      <td>1884</td>\n",
       "      <td>-0.27</td>\n",
       "    </tr>\n",
       "  </tbody>\n",
       "</table>\n",
       "</div>"
      ],
      "text/plain": [
       "   Year  MeanTempAnomaly_C\n",
       "0  1880              -0.12\n",
       "1  1881              -0.07\n",
       "2  1882              -0.10\n",
       "3  1883              -0.16\n",
       "4  1884              -0.27"
      ]
     },
     "execution_count": 1,
     "metadata": {},
     "output_type": "execute_result"
    }
   ],
   "source": [
    "# Final Project, Part 1 – NOAA Global Temperature Data Exploration\n",
    "# Name: Lanting Fang\n",
    "# Dataset: NOAA Global Surface Temperature Dataset (NOAAGlobalTemp)\n",
    "# Purpose: Explore the structure, summary statistics, and trend in global temperature anomalies\n",
    "\n",
    "import pandas as pd\n",
    "import matplotlib.pyplot as plt\n",
    "\n",
    "\n",
    "df = pd.read_csv(\"NOAA_Global_Temp_Annual.csv\")\n",
    "\n",
    "df.head()\n"
   ]
  },
  {
   "cell_type": "markdown",
   "metadata": {},
   "source": [
    "## Dataset information\n",
    "\n",
    "* What is the \"name\" of the dataset?\n",
    "* Where did you obtain it?\n",
    "* Where can we obtain it? (i.e., URL)\n",
    "* What is the license of the dataset? What are we allowed to do with it?  This information is generally found in an \"About\" page or in documentation.  If there is no explicit license, use what you find in the dataset documentation to make your \"best guess\".\n",
    "* How big is it in file size and in items?  Looking ahead, [how does this relate to GitHub's limits on uploading large files](https://docs.github.com/en/repositories/working-with-files/managing-large-files/about-large-files-on-github)?  If you plan on hosting the data yourself and it is larger than GitHub's limits, state your plan for how you will address this issue.  (Note: your plan might change a little bit from what you propose here and that is ok!)\n",
    "* Make a simple plot showing a relationship of interest. You can use matplotlib or pandas (or other). Don't worry about colors, labels or anything else of that nature!  Include a few sentences about what your plot is aiming to show and why it is interesting.\n"
   ]
  },
  {
   "cell_type": "markdown",
   "metadata": {},
   "source": [
    "**What is the \"name\" of the dataset?**  \n",
    "NOAA Global Surface Temperature Dataset (NOAAGlobalTemp)\n",
    "\n",
    "**Where did you obtain it?**  \n",
    "The dataset is provided by the U.S. National Oceanic and Atmospheric Administration (NOAA), specifically by the National Centers for Environmental Information (NCEI).\n",
    "\n",
    "**Where can we obtain it? (i.e., URL)**  \n",
    "https://www.ncei.noaa.gov/products/land-based-station/noaa-global-temp\n",
    "\n",
    "**What is the license of the dataset?**  \n",
    "There is no explicit license listed. However, as a U.S. government dataset, it is considered public domain. It is freely available for educational and non-commercial use.\n",
    "\n",
    "**How big is it in file size and in items?**  \n",
    "The cleaned CSV subset used in this project is approximately 2.4 KB in size and contains 143 rows (representing years from 1880 to 2022). This is well within GitHub’s file upload limit of 100 MB, so no special handling is needed.\n",
    "\n",
    "**Make a simple plot showing a relationship of interest.**\n",
    "\n"
   ]
  },
  {
   "cell_type": "code",
   "execution_count": 2,
   "metadata": {},
   "outputs": [
    {
     "data": {
      "image/png": "[encoded data removed]",
      "text/plain": [
       "<Figure size 432x288 with 1 Axes>"
      ]
     },
     "metadata": {
      "needs_background": "light"
     },
     "output_type": "display_data"
    }
   ],
   "source": [
    "import matplotlib.pyplot as plt\n",
    "\n",
    "plt.plot(df['Year'], df['MeanTempAnomaly_C'])\n",
    "plt.title(\"Global Annual Temperature Anomaly (°C)\")\n",
    "plt.xlabel(\"Year\")\n",
    "plt.ylabel(\"Temperature Anomaly (°C)\")\n",
    "plt.grid(True)\n",
    "plt.tight_layout()\n",
    "plt.show()\n"
   ]
  },
  {
   "cell_type": "markdown",
   "metadata": {},
   "source": [
    "## Data exploration and Plot\n",
    "\n",
    "Explore the dataset in the Workspace. Make sure you include things that did and did not work (be sure to comment out things that don't work). "
   ]
  },
  {
   "cell_type": "code",
   "execution_count": 3,
   "metadata": {},
   "outputs": [
    {
     "name": "stdout",
     "output_type": "stream",
     "text": [
      "Data Sample:\n",
      "   Year  MeanTempAnomaly_C\n",
      "0  1880              -0.12\n",
      "1  1881              -0.07\n",
      "2  1882              -0.10\n",
      "3  1883              -0.16\n",
      "4  1884              -0.27\n",
      "<class 'pandas.core.frame.DataFrame'>\n",
      "RangeIndex: 143 entries, 0 to 142\n",
      "Data columns (total 2 columns):\n",
      " #   Column             Non-Null Count  Dtype  \n",
      "---  ------             --------------  -----  \n",
      " 0   Year               143 non-null    int64  \n",
      " 1   MeanTempAnomaly_C  143 non-null    float64\n",
      "dtypes: float64(1), int64(1)\n",
      "memory usage: 2.4 KB\n",
      "Year                 0\n",
      "MeanTempAnomaly_C    0\n",
      "dtype: int64\n"
     ]
    }
   ],
   "source": [
    "import pandas as pd\n",
    "\n",
    "\n",
    "df = pd.read_csv(\"NOAA_Global_Temp_Annual.csv\")\n",
    "\n",
    "\n",
    "print(\"Data Sample:\")\n",
    "print(df.head())\n",
    "\n",
    "\n",
    "df.info()\n",
    "\n",
    "\n",
    "print(df.isnull().sum())\n"
   ]
  },
  {
   "cell_type": "markdown",
   "metadata": {},
   "source": [
    "Everything loaded successfully. The dataset is small, with two columns and no missing values. All years from 1880 to 2022 are represented. The data is already clean and well-structured.\n",
    "**Failed attempt (required by prompt):**\n",
    "```python\n",
    "# plt.plot(df['Date'], df['Temp'])  # Didn't work – columns are named 'Year' and 'MeanTempAnomaly_C'\n"
   ]
  },
  {
   "cell_type": "code",
   "execution_count": null,
   "metadata": {},
   "outputs": [],
   "source": []
  },
  {
   "cell_type": "markdown",
   "metadata": {},
   "source": [
    "## Plot Summary\n",
    "\n",
    "Summarize the characteristics of the dataset in words: what does it represent, what are the fields/columns/rows, what data types are they, etc."
   ]
  },
  {
   "cell_type": "markdown",
   "metadata": {},
   "source": [
    "This dataset represents global annual surface temperature anomalies in degrees Celsius, relative to a 20th-century baseline. Each row corresponds to one year, starting from 1880."
   ]
  },
  {
   "cell_type": "markdown",
   "metadata": {},
   "source": [
    "**Columns:**\n",
    "- `Year`: The calendar year (int)\n",
    "- `MeanTempAnomaly_C`: The global temperature anomaly in °C (float)\n",
    "\n",
    "**Data types:**\n",
    "- `Year`: int64 (acts like datetime index)\n",
    "- `MeanTempAnomaly_C`: float64\n",
    "\n",
    "The dataset is well-suited for time series visualizations and long-term trend analysis. Because it is updated annually and comes from a credible public source, it is appropriate for a semi-realtime observatory project."
   ]
  },
  {
   "cell_type": "code",
   "execution_count": null,
   "metadata": {},
   "outputs": [],
   "source": []
  },
  {
   "cell_type": "code",
   "execution_count": null,
   "metadata": {},
   "outputs": [],
   "source": []
  }
 ],
 "metadata": {
  "kernelspec": {
   "display_name": "Python 3",
   "language": "python",
   "name": "python3"
  },
  "language_info": {
   "codemirror_mode": {
    "name": "ipython",
    "version": 3
   },
   "file_extension": ".py",
   "mimetype": "text/x-python",
   "name": "python",
   "nbconvert_exporter": "python",
   "pygments_lexer": "ipython3",
   "version": "3.8.6"
  }
 },
 "nbformat": 4,
 "nbformat_minor": 4
}
